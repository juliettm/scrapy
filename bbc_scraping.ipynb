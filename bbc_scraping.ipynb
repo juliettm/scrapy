{
 "cells": [
  {
   "cell_type": "markdown",
   "metadata": {},
   "source": [
    "## Web scraping: BBC Mundo main articles"
   ]
  },
  {
   "cell_type": "code",
   "execution_count": 1,
   "metadata": {
    "collapsed": true
   },
   "outputs": [],
   "source": [
    "from bs4 import BeautifulSoup\n",
    "import urllib2"
   ]
  },
  {
   "cell_type": "code",
   "execution_count": 2,
   "metadata": {
    "collapsed": true
   },
   "outputs": [],
   "source": [
    "# Get all the links with an specific format from the url\n",
    "def getArticlesLinks(url):\n",
    "    tabFile = urllib2.urlopen(url)\n",
    "    soup = BeautifulSoup(tabFile)\n",
    "    links = [] \n",
    "    # Extract all the a-tags from the page (only main articles)\n",
    "    aTags = soup.find(\"div\", {\"class\":\"column--primary\"}).\\\n",
    "    find_all('a', {'class': 'title-link'})\n",
    "    for tag in aTags:\n",
    "        links.append(tag.get('href'))\n",
    "    return links"
   ]
  },
  {
   "cell_type": "code",
   "execution_count": 3,
   "metadata": {
    "collapsed": false
   },
   "outputs": [
    {
     "name": "stdout",
     "output_type": "stream",
     "text": [
      "135\n"
     ]
    },
    {
     "name": "stderr",
     "output_type": "stream",
     "text": [
      "/Library/Python/2.7/site-packages/bs4/__init__.py:181: UserWarning: No parser was explicitly specified, so I'm using the best available HTML parser for this system (\"html.parser\"). This usually isn't a problem, but if you run this code on another system, or in a different virtual environment, it may use a different parser and behave differently.\n",
      "\n",
      "The code that caused this warning is on line 162 of the file /System/Library/Frameworks/Python.framework/Versions/2.7/lib/python2.7/runpy.py. To get rid of this warning, change code that looks like this:\n",
      "\n",
      " BeautifulSoup([your markup])\n",
      "\n",
      "to this:\n",
      "\n",
      " BeautifulSoup([your markup], \"html.parser\")\n",
      "\n",
      "  markup_type=markup_type))\n"
     ]
    }
   ],
   "source": [
    "# List of links to sections of interest in the analysis\n",
    "# All links in navigation bar:\n",
    "# file = urllib2.urlopen('http://www.bbc.com/mundo')\n",
    "# soup = BeautifulSoup(file)\n",
    "# links = soup.find(\"div\", {\"class\":\"navigation navigation--wide\"}).findAll('a')\n",
    "links = [\"http://www.bbc.com/mundo/america_latina\", \n",
    "         \"http://www.bbc.com/mundo/internacional\", #internacional\n",
    "         \"http://www.bbc.com/mundo/topics/ca170ae3-99c1-48db-9b67-2866f85e7342\", #economia\n",
    "         \"http://www.bbc.com/mundo/topics/31684f19-84d6-41f6-b033-7ae08098572a\", #tecnologia\n",
    "         \"http://www.bbc.com/mundo/topics/0f469e6a-d4a6-46f2-b727-2bd039cb6b53\", #ciencia\n",
    "         \"http://www.bbc.com/mundo/topics/c4794229-7f87-43ce-ac0a-6cfcd6d3cef2\", #salud\n",
    "         \"http://www.bbc.com/mundo/topics/6a73afa3-ea6b-45c1-80bb-49060b99f864\", #cultura\n",
    "         \"http://www.bbc.com/mundo/topics/4063f80f-cccc-44c8-9449-5ca44e4c8592\" #deportes\n",
    "        ]\n",
    "articlesLinks = []\n",
    "for l in links:\n",
    "    aLinks = getArticlesLinks(l)\n",
    "    for artL in aLinks:\n",
    "        if artL not in articlesLinks:\n",
    "            articlesLinks.append(artL)"
   ]
  },
  {
   "cell_type": "code",
   "execution_count": 4,
   "metadata": {
    "collapsed": true
   },
   "outputs": [],
   "source": [
    "# Get all p-tags in the article (url) and save the text to path as articlesi.txt\n",
    "def getArticle(url, i, path):\n",
    "    if url[0:4] != 'http':\n",
    "        allUrl = 'http://www.bbc.com'+ url\n",
    "    else:\n",
    "        allUrl = url\n",
    "    content = urllib2.urlopen(allUrl)\n",
    "    soup = BeautifulSoup(content)\n",
    "    article_text = ''\n",
    "    pArticle = soup.find(\"div\", {\"class\":\"story-body__inner\"})\n",
    "    article = []\n",
    "    if pArticle: # Ensures that the content contains a div-class = story-body__inner \n",
    "        article = pArticle.findAll('p')   \n",
    "        for element in article:\n",
    "            article_text += '\\n' + ''.join(element.findAll(text = True))\n",
    "        f = open(path + \"article\"+ str(i)+ \".txt\", 'w') \n",
    "        f.write(article_text)\n",
    "        f.close()\n",
    "    else:\n",
    "        exit()"
   ]
  },
  {
   "cell_type": "code",
   "execution_count": 5,
   "metadata": {
    "collapsed": true
   },
   "outputs": [],
   "source": [
    "# Enconding\n",
    "import sys\n",
    "reload(sys)  \n",
    "sys.setdefaultencoding('UTF8')"
   ]
  },
  {
   "cell_type": "code",
   "execution_count": null,
   "metadata": {
    "collapsed": false
   },
   "outputs": [],
   "source": [
    "## Path to save articles.txt \n",
    "path = \"\"\n",
    "i=0\n",
    "for art in articlesLinks:\n",
    "    getArticle(art, i, path)\n",
    "    i+=1"
   ]
  },
  {
   "cell_type": "code",
   "execution_count": null,
   "metadata": {
    "collapsed": true
   },
   "outputs": [],
   "source": []
  }
 ],
 "metadata": {
  "kernelspec": {
   "display_name": "Python 2",
   "language": "python",
   "name": "python2"
  },
  "language_info": {
   "codemirror_mode": {
    "name": "ipython",
    "version": 2
   },
   "file_extension": ".py",
   "mimetype": "text/x-python",
   "name": "python",
   "nbconvert_exporter": "python",
   "pygments_lexer": "ipython2",
   "version": "2.7.10"
  }
 },
 "nbformat": 4,
 "nbformat_minor": 1
}
